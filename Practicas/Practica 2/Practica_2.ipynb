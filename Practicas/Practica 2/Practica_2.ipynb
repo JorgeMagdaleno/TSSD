{
 "cells": [
  {
   "cell_type": "code",
   "execution_count": 1,
   "id": "ca8e0506-c707-4a90-aff9-f34d2aeadae2",
   "metadata": {},
   "outputs": [
    {
     "name": "stderr",
     "output_type": "stream",
     "text": [
      "/Users/jorgemagdaleno/PycharmProjects/pythonProject/.venv/lib/python3.9/site-packages/urllib3/__init__.py:35: NotOpenSSLWarning: urllib3 v2 only supports OpenSSL 1.1.1+, currently the 'ssl' module is compiled with 'LibreSSL 2.8.3'. See: https://github.com/urllib3/urllib3/issues/3020\n",
      "  warnings.warn(\n"
     ]
    }
   ],
   "source": [
    "import urllib.robotparser\n",
    "import requests\n",
    "import xml.etree.ElementTree as ET"
   ]
  },
  {
   "cell_type": "code",
   "execution_count": 2,
   "id": "5eb222d8-a6bd-499a-854d-0e4446a4e3b3",
   "metadata": {},
   "outputs": [
    {
     "name": "stdout",
     "output_type": "stream",
     "text": [
      "Requirement already satisfied: ultimate-sitemap-parser in /Users/jorgemagdaleno/PycharmProjects/pythonProject/.venv/lib/python3.9/site-packages (1.1.1)\n",
      "Requirement already satisfied: python-dateutil<3.0.0,>=2.7 in /Users/jorgemagdaleno/PycharmProjects/pythonProject/.venv/lib/python3.9/site-packages (from ultimate-sitemap-parser) (2.9.0.post0)\n",
      "Requirement already satisfied: requests<3.0.0,>=2.2.1 in /Users/jorgemagdaleno/PycharmProjects/pythonProject/.venv/lib/python3.9/site-packages (from ultimate-sitemap-parser) (2.32.3)\n",
      "Requirement already satisfied: six>=1.5 in /Users/jorgemagdaleno/PycharmProjects/pythonProject/.venv/lib/python3.9/site-packages (from python-dateutil<3.0.0,>=2.7->ultimate-sitemap-parser) (1.16.0)\n",
      "Requirement already satisfied: charset-normalizer<4,>=2 in /Users/jorgemagdaleno/PycharmProjects/pythonProject/.venv/lib/python3.9/site-packages (from requests<3.0.0,>=2.2.1->ultimate-sitemap-parser) (3.3.2)\n",
      "Requirement already satisfied: idna<4,>=2.5 in /Users/jorgemagdaleno/PycharmProjects/pythonProject/.venv/lib/python3.9/site-packages (from requests<3.0.0,>=2.2.1->ultimate-sitemap-parser) (3.8)\n",
      "Requirement already satisfied: urllib3<3,>=1.21.1 in /Users/jorgemagdaleno/PycharmProjects/pythonProject/.venv/lib/python3.9/site-packages (from requests<3.0.0,>=2.2.1->ultimate-sitemap-parser) (2.2.2)\n",
      "Requirement already satisfied: certifi>=2017.4.17 in /Users/jorgemagdaleno/PycharmProjects/pythonProject/.venv/lib/python3.9/site-packages (from requests<3.0.0,>=2.2.1->ultimate-sitemap-parser) (2024.7.4)\n",
      "\n",
      "\u001b[1m[\u001b[0m\u001b[34;49mnotice\u001b[0m\u001b[1;39;49m]\u001b[0m\u001b[39;49m A new release of pip is available: \u001b[0m\u001b[31;49m23.2.1\u001b[0m\u001b[39;49m -> \u001b[0m\u001b[32;49m25.0\u001b[0m\n",
      "\u001b[1m[\u001b[0m\u001b[34;49mnotice\u001b[0m\u001b[1;39;49m]\u001b[0m\u001b[39;49m To update, run: \u001b[0m\u001b[32;49mpip install --upgrade pip\u001b[0m\n"
     ]
    }
   ],
   "source": [
    "!pip install ultimate-sitemap-parser"
   ]
  },
  {
   "cell_type": "code",
   "execution_count": 3,
   "id": "443ab06b-12c1-4830-adac-d1241225ea3c",
   "metadata": {},
   "outputs": [],
   "source": [
    "def fetch_robots_file(url, headers):\n",
    "    \n",
    "    # Se realiza un try y catch para hacer catch de errores por fuera del request siendo rechazado por el servidor\n",
    "    try:\n",
    "        \n",
    "        # Se realiza un request a la url y se da un tiempo de espera de 10 segundos, \n",
    "        # en caso de que la respuesta no sea exitosa devuelve el mensaje de error\n",
    "        response = requests.get(url, timeout=10, headers=headers)\n",
    "        if response.status_code == 200:\n",
    "            return response.text\n",
    "        else:\n",
    "            print(response)\n",
    "            print(f\"No se pudo obtener el archivo robots.txt de {url}\")\n",
    "            return None\n",
    "    except Exception as e:\n",
    "        print(f\"Error al obtener {url}: {e}\")\n",
    "        return None\n",
    "\n",
    "def analyze_robots(url, content):\n",
    "    \n",
    "    # Por medio de robotparser tomamos el contenido y lo separamos por lineas para luego poder iterarlas\n",
    "    rfp = urllib.robotparser.RobotFileParser()\n",
    "    rfp.parse(content.splitlines())\n",
    "\n",
    "    # Verificar si el User Agent puede acceder a la raíz del sitio\n",
    "    can_fetch_root = rfp.can_fetch(user_agent, \"/\")\n",
    "    print(f\"El User Agent '{user_agent}' puede acceder al raíz de {url}: {can_fetch_root}\")\n",
    "\n",
    "    # Iterar sobre las reglas definidas en el archivo robots.txt\n",
    "    entries = [rfp.default_entry] if rfp.default_entry else []\n",
    "    entries.extend(rfp.entries)\n",
    "\n",
    "    for entry in entries:\n",
    "        for rule in entry.rulelines:\n",
    "            print(f\"User Agent: {entry.useragents}, Path: {rule.path}, Allowance: {rule.allowance}\")\n"
   ]
  },
  {
   "cell_type": "code",
   "execution_count": null,
   "id": "f75b01cb-4386-4ed2-bd5e-b335fab6537d",
   "metadata": {},
   "outputs": [
    {
     "name": "stdout",
     "output_type": "stream",
     "text": [
      "\n",
      "Analizando https://www.cicese.mx/robots.txt...\n",
      "El User Agent '*' puede acceder al raíz de https://www.cicese.mx/robots.txt: True\n",
      "User Agent: ['SemrushBot'], Path: /, Allowance: False\n",
      "User Agent: ['SemrushBot-SA'], Path: /, Allowance: False\n",
      "User Agent: ['SemrushBot-BM'], Path: /, Allowance: False\n",
      "User Agent: ['SemrushBot-CT'], Path: /, Allowance: False\n",
      "User Agent: ['SemrushBot-SWA'], Path: /, Allowance: False\n",
      "User Agent: ['SemrushBot-SI'], Path: /, Allowance: False\n",
      "User Agent: ['SemrushBot-BA'], Path: /, Allowance: False\n",
      "User Agent: ['BLEXBot'], Path: /, Allowance: False\n",
      "\n",
      "Analizando https://www.uabc.mx/robots.txt...\n",
      "El User Agent '*' puede acceder al raíz de https://www.uabc.mx/robots.txt: True\n",
      "User Agent: ['*'], Path: /wp-admin/, Allowance: False\n",
      "User Agent: ['*'], Path: /wp-admin/admin-ajax.php, Allowance: True\n",
      "User Agent: ['*'], Path: /wp-content/uploads/wpforms/, Allowance: False\n",
      "\n",
      "Analizando https://www.unam.mx/robots.txt...\n"
     ]
    }
   ],
   "source": [
    "# Lista de sitios a analizar\n",
    "sitios = [\"https://www.cicese.mx/robots.txt\", \n",
    "          \"https://www.uabc.mx/robots.txt\", \n",
    "          \"https://www.unam.mx/robots.txt\", \n",
    "          \"https://www.github.com/robots.txt\"]\n",
    "\n",
    "# Incluyo headers porque Unam en particular bloquea la conneccion sin ser un User Agent definido\n",
    "headers = {\n",
    "    'User-Agent': 'Mozilla/5.0 (Windows NT 10.0; Win64; x64) AppleWebKit/537.36 (KHTML, like Gecko) Chrome/115.0.0.0 Safari/537.36'\n",
    "}\n",
    "\n",
    "# User Agent para revisar los permisos\n",
    "user_agent = \"*\"\n",
    "\n",
    "# Procesar cada sitio\n",
    "for sitio in sitios:\n",
    "    print(f\"\\nAnalizando {sitio}...\")\n",
    "    robots_content = fetch_robots_file(sitio, headers)\n",
    "    if robots_content:\n",
    "        analyze_robots(sitio, robots_content)\n"
   ]
  },
  {
   "cell_type": "markdown",
   "id": "58a9b31e-6851-4265-a1f0-e2c1e08b987f",
   "metadata": {},
   "source": [
    "**Practica 3**"
   ]
  },
  {
   "cell_type": "code",
   "execution_count": null,
   "id": "85133dc5-14f1-44ec-82a9-0f074284aab4",
   "metadata": {},
   "outputs": [],
   "source": [
    "def parse_wordpress_sitemap(content):\n",
    "    try:\n",
    "        \n",
    "        # Utilizo la libreria de xml.etree.ElementTree para poder tomar el body del la pagina usarlo como xml\n",
    "        root = ET.fromstring(content)\n",
    "        \n",
    "        # Busco los lugares donde se enlistan los otros urls de la pagina, como son extras tambien exploro estos\n",
    "        namespaces = {'ns': 'http://www.sitemaps.org/schemas/sitemap/0.9'}\n",
    "        sitemaps = root.findall(\"ns:sitemap\", namespaces)\n",
    "\n",
    "        # Itero por todos buscando los sitios que refieran\n",
    "        print(\"Sitemaps secundarios encontrados:\")\n",
    "        for sitemap in sitemaps:\n",
    "            loc = sitemap.find(\"ns:loc\", namespaces).text\n",
    "            print(f\"- {loc}\")\n",
    "            analyze_secondary_sitemap(loc)\n",
    "    except Exception as e:\n",
    "        print(f\"Error al analizar el sitemap: {e}\")\n",
    "\n",
    "def analyze_secondary_sitemap(url):\n",
    "    try:\n",
    "        response = requests.get(url, timeout=10)\n",
    "        if response.status_code == 200:\n",
    "            root = ET.fromstring(response.content)\n",
    "            namespaces = {'ns': 'http://www.sitemaps.org/schemas/sitemap/0.9'}\n",
    "            urls = root.findall(\"ns:url\", namespaces)\n",
    "            \n",
    "            print(f\"URLs encontradas en {url}:\")\n",
    "            for url_entry in urls:\n",
    "                loc = url_entry.find(\"ns:loc\", namespaces).text\n",
    "                print(f\"- {loc}\")\n",
    "        else:\n",
    "            print(f\"No se pudo acceder al sitemap secundario: {url}\")\n",
    "    except Exception as e:\n",
    "        print(f\"Error al procesar el sitemap secundario {url}: {e}\")"
   ]
  },
  {
   "cell_type": "code",
   "execution_count": null,
   "id": "d52b23d8-187a-45a3-a5fd-6d196094481f",
   "metadata": {},
   "outputs": [],
   "source": [
    "# URL del sitemap\n",
    "sitemap_url = \"https://www.uabc.mx/wp-sitemap.xml\"\n",
    "\n",
    "# Procesar el sitemap\n",
    "sitemap_content = fetch_robots_file(sitemap_url, headers)\n",
    "if sitemap_content:\n",
    "    parse_wordpress_sitemap(sitemap_content)\n"
   ]
  },
  {
   "cell_type": "code",
   "execution_count": null,
   "id": "08a73aa0-fbb3-4d28-a97b-410011a99d14",
   "metadata": {},
   "outputs": [],
   "source": []
  }
 ],
 "metadata": {
  "kernelspec": {
   "display_name": "Python 3 (ipykernel)",
   "language": "python",
   "name": "python3"
  },
  "language_info": {
   "codemirror_mode": {
    "name": "ipython",
    "version": 3
   },
   "file_extension": ".py",
   "mimetype": "text/x-python",
   "name": "python",
   "nbconvert_exporter": "python",
   "pygments_lexer": "ipython3",
   "version": "3.9.6"
  }
 },
 "nbformat": 4,
 "nbformat_minor": 5
}
