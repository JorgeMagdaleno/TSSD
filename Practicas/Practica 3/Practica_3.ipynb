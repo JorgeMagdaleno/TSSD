{
 "cells": [
  {
   "cell_type": "code",
   "execution_count": 5,
   "id": "09a281ed-96ba-46bd-8e53-0c8b53557510",
   "metadata": {},
   "outputs": [
    {
     "name": "stdout",
     "output_type": "stream",
     "text": [
      "Registros con Gender faltante:\n",
      "    First Name Gender  Start Date Last Login Time  Salary  Bonus %  \\\n",
      "20        Lois    NaN   4/22/1995         7:18 PM   64714    4.934   \n",
      "22      Joshua    NaN    3/8/2012         1:58 AM   90816   18.816   \n",
      "27       Scott    NaN   7/11/1991         6:58 PM  122367    5.218   \n",
      "31       Joyce    NaN   2/20/2005         2:40 PM   88657   12.752   \n",
      "41   Christine    NaN   6/28/2015         1:08 AM   66582   11.308   \n",
      "..         ...    ...         ...             ...     ...      ...   \n",
      "961    Antonio    NaN   6/18/1989         9:37 PM  103050    3.050   \n",
      "972     Victor    NaN   7/28/2006         2:49 PM   76381   11.159   \n",
      "985    Stephen    NaN   7/10/1983         8:10 PM   85668    1.909   \n",
      "989     Justin    NaN   2/10/1991         4:58 PM   38344    3.794   \n",
      "995      Henry    NaN  11/23/2014         6:09 AM  132483   16.655   \n",
      "\n",
      "    Senior Management                  Team  \n",
      "20               True                 Legal  \n",
      "22               True       Client Services  \n",
      "27              False                 Legal  \n",
      "31              False               Product  \n",
      "41               True  Business Development  \n",
      "..                ...                   ...  \n",
      "961             False                 Legal  \n",
      "972              True                 Sales  \n",
      "985             False                 Legal  \n",
      "989             False                 Legal  \n",
      "995             False          Distribution  \n",
      "\n",
      "[145 rows x 8 columns]\n"
     ]
    }
   ],
   "source": [
    "import pandas as pd\n",
    "\n",
    "# Cargar el archivo CSV\n",
    "df = pd.read_csv(\"employees.csv\")\n",
    "\n",
    "# 1. Mostrar solo donde falta Gender\n",
    "df_falta_gender = df[df['Gender'].isnull()]\n",
    "print(\"Registros con Gender faltante:\")\n",
    "print(df_falta_gender)"
   ]
  },
  {
   "cell_type": "code",
   "execution_count": 6,
   "id": "d891abd0-9394-4897-aedb-c5134e2b249b",
   "metadata": {},
   "outputs": [
    {
     "name": "stdout",
     "output_type": "stream",
     "text": [
      "Registros con Gender no faltante:\n",
      "    First Name  Gender Start Date Last Login Time  Salary  Bonus %  \\\n",
      "0      Douglas    Male   8/6/1993        12:42 PM   97308    6.945   \n",
      "1       Thomas    Male  3/31/1996         6:53 AM   61933    4.170   \n",
      "2        Maria  Female  4/23/1993        11:17 AM  130590   11.858   \n",
      "3        Jerry    Male   3/4/2005         1:00 PM  138705    9.340   \n",
      "4        Larry    Male  1/24/1998         4:47 PM  101004    1.389   \n",
      "..         ...     ...        ...             ...     ...      ...   \n",
      "994     George    Male  6/21/2013         5:47 PM   98874    4.479   \n",
      "996    Phillip    Male  1/31/1984         6:30 AM   42392   19.675   \n",
      "997    Russell    Male  5/20/2013        12:39 PM   96914    1.421   \n",
      "998      Larry    Male  4/20/2013         4:45 PM   60500   11.985   \n",
      "999     Albert    Male  5/15/2012         6:24 PM  129949   10.169   \n",
      "\n",
      "    Senior Management                  Team  \n",
      "0                True             Marketing  \n",
      "1                True                   NaN  \n",
      "2               False               Finance  \n",
      "3                True               Finance  \n",
      "4                True       Client Services  \n",
      "..                ...                   ...  \n",
      "994              True             Marketing  \n",
      "996             False               Finance  \n",
      "997             False               Product  \n",
      "998             False  Business Development  \n",
      "999              True                 Sales  \n",
      "\n",
      "[855 rows x 8 columns]\n"
     ]
    }
   ],
   "source": [
    "# 2. Mostrar solo donde no hace falta gender\n",
    "df_no_falta_gender = df[df['Gender'].notnull()]\n",
    "print(\"Registros con Gender no faltante:\")\n",
    "print(df_no_falta_gender)"
   ]
  },
  {
   "cell_type": "code",
   "execution_count": 7,
   "id": "b0852a16-528a-4958-a327-a85a13a32555",
   "metadata": {},
   "outputs": [
    {
     "name": "stdout",
     "output_type": "stream",
     "text": [
      "DataFrame con valores faltantes reemplazados:\n",
      "    First Name  Gender  Start Date Last Login Time  Salary  Bonus %  \\\n",
      "0      Douglas    Male    8/6/1993        12:42 PM   97308    6.945   \n",
      "1       Thomas    Male   3/31/1996         6:53 AM   61933    4.170   \n",
      "2        Maria  Female   4/23/1993        11:17 AM  130590   11.858   \n",
      "3        Jerry    Male    3/4/2005         1:00 PM  138705    9.340   \n",
      "4        Larry    Male   1/24/1998         4:47 PM  101004    1.389   \n",
      "..         ...     ...         ...             ...     ...      ...   \n",
      "995      Henry       x  11/23/2014         6:09 AM  132483   16.655   \n",
      "996    Phillip    Male   1/31/1984         6:30 AM   42392   19.675   \n",
      "997    Russell    Male   5/20/2013        12:39 PM   96914    1.421   \n",
      "998      Larry    Male   4/20/2013         4:45 PM   60500   11.985   \n",
      "999     Albert    Male   5/15/2012         6:24 PM  129949   10.169   \n",
      "\n",
      "    Senior Management                  Team  \n",
      "0                True             Marketing  \n",
      "1                True                   NaN  \n",
      "2               False               Finance  \n",
      "3                True               Finance  \n",
      "4                True       Client Services  \n",
      "..                ...                   ...  \n",
      "995             False          Distribution  \n",
      "996             False               Finance  \n",
      "997             False               Product  \n",
      "998             False  Business Development  \n",
      "999              True                 Sales  \n",
      "\n",
      "[1000 rows x 8 columns]\n"
     ]
    }
   ],
   "source": [
    "# 3. Reemplazar los valores faltantes en cualquier campo\n",
    "df_reemplazado = df.fillna({\n",
    "    'Gender': 'x',\n",
    "    'Salary': 0.00\n",
    "})\n",
    "print(\"DataFrame con valores faltantes reemplazados:\")\n",
    "print(df_reemplazado)"
   ]
  },
  {
   "cell_type": "code",
   "execution_count": 8,
   "id": "099493b7-50ff-43cf-b271-34ae43b411ed",
   "metadata": {},
   "outputs": [
    {
     "name": "stdout",
     "output_type": "stream",
     "text": [
      "Numero total de registros: 1000\n",
      "Numero de registros con al menos un valor faltante: 236\n",
      "Numero de registros sin valores faltantes: 764\n"
     ]
    }
   ],
   "source": [
    "# 4. Mostrar el número total de registros, el numero donde falta al menos un valor y el número de registros sin valores faltantes.\n",
    "total_registros = len(df)\n",
    "registros_con_faltantes = df.isnull().any(axis=1).sum()\n",
    "registros_completos = df.dropna().shape[0]\n",
    "\n",
    "print(\"Numero total de registros:\", total_registros)\n",
    "print(\"Numero de registros con al menos un valor faltante:\", registros_con_faltantes)\n",
    "print(\"Numero de registros sin valores faltantes:\", registros_completos)"
   ]
  },
  {
   "cell_type": "code",
   "execution_count": null,
   "id": "4b1f0e1c-b5af-4c0e-ac98-7a0a6b00d01f",
   "metadata": {},
   "outputs": [],
   "source": []
  }
 ],
 "metadata": {
  "kernelspec": {
   "display_name": "Python 3 (ipykernel)",
   "language": "python",
   "name": "python3"
  },
  "language_info": {
   "codemirror_mode": {
    "name": "ipython",
    "version": 3
   },
   "file_extension": ".py",
   "mimetype": "text/x-python",
   "name": "python",
   "nbconvert_exporter": "python",
   "pygments_lexer": "ipython3",
   "version": "3.9.6"
  }
 },
 "nbformat": 4,
 "nbformat_minor": 5
}
